{
  "nbformat": 4,
  "nbformat_minor": 0,
  "metadata": {
    "colab": {
      "provenance": []
    },
    "kernelspec": {
      "name": "python3",
      "display_name": "Python 3"
    },
    "language_info": {
      "name": "python"
    }
  },
  "cells": [
    {
      "cell_type": "code",
      "source": [
        "#!pip install FPDF\n",
        "#!pip install extract_data\n",
        "#!pip install extraction\n",
        "#!pip install --upgrade --force-reinstall extraction\n",
        "#!pip install extract_msg"
      ],
      "metadata": {
        "id": "jdOa_SR8G5q-"
      },
      "execution_count": 3,
      "outputs": []
    },
    {
      "cell_type": "code",
      "execution_count": 4,
      "metadata": {
        "id": "OpygDAK4Gf6P"
      },
      "outputs": [],
      "source": [
        "import os\n",
        "import extract_msg\n",
        "\n",
        "import os\n",
        "import extract_msg\n",
        "from fpdf import FPDF"
      ]
    },
    {
      "cell_type": "code",
      "source": [
        "# === INPUT PATHS ===\n",
        "msg_file_path = \"sample_msg_poc.msg\"  # Replace with your .msg file path\n",
        "output_pdf_path = \"/content/sample_data/email_output.pdf\"  # Replace with desired output path"
      ],
      "metadata": {
        "id": "F615FS0rHaAM"
      },
      "execution_count": 5,
      "outputs": []
    },
    {
      "cell_type": "code",
      "source": [
        "# Converts a .msg file to a PDF document.\n",
        "#def msg_to_pdf(msg_file_path, output_pdf_path):\n",
        "    # Load the .msg file\n",
        "msg = extract_msg.Message(msg_file_path)\n",
        "msg_sender = msg.sender\n",
        "msg_date = msg.date\n",
        "msg_subject = msg.subject\n",
        "msg_body = msg.body\n"
      ],
      "metadata": {
        "id": "riTG2RWRG4GW"
      },
      "execution_count": 9,
      "outputs": []
    },
    {
      "cell_type": "code",
      "source": [
        "# Create a PDF\n",
        "pdf = FPDF()\n",
        "pdf.add_page()\n",
        "pdf.set_auto_page_break(auto=True, margin=15)\n",
        "pdf.set_font(\"Arial\", size=12)"
      ],
      "metadata": {
        "id": "BEcwK0c_IoPX"
      },
      "execution_count": 10,
      "outputs": []
    },
    {
      "cell_type": "code",
      "source": [
        "# Add email details\n",
        "pdf.multi_cell(0, 10, f\"From: {msg_sender}\")\n",
        "pdf.multi_cell(0, 10, f\"Date: {msg_date}\")\n",
        "pdf.multi_cell(0, 10, f\"Subject: {msg_subject}\")\n",
        "pdf.ln(100)\n",
        "pdf.multi_cell(0, 106, f\"body: {msg_body}\")\n",
        "#pdf.multi_cell(0, 10, msg_body)"
      ],
      "metadata": {
        "colab": {
          "base_uri": "https://localhost:8080/"
        },
        "id": "8dPrJAD8IrD9",
        "outputId": "86964d38-44e5-4c0d-e18a-65077515e5ce"
      },
      "execution_count": 15,
      "outputs": [
        {
          "output_type": "execute_result",
          "data": {
            "text/plain": [
              "[]"
            ]
          },
          "metadata": {},
          "execution_count": 15
        }
      ]
    },
    {
      "cell_type": "code",
      "source": [
        "# === CREATE OUTPUT FOLDER IF NEEDED ===\n",
        "os.makedirs(os.path.dirname(output_pdf_path), exist_ok=True)\n",
        "\n",
        "# === SAVE PDF ===\n",
        "pdf.output(output_pdf_path)\n",
        "\n",
        "print(f\"PDF saved to: {output_pdf_path}\")"
      ],
      "metadata": {
        "colab": {
          "base_uri": "https://localhost:8080/"
        },
        "id": "H_AKiDINIt3I",
        "outputId": "5bdd4fff-8cc4-4a3b-922e-8e297440b6c9"
      },
      "execution_count": 16,
      "outputs": [
        {
          "output_type": "stream",
          "name": "stdout",
          "text": [
            "PDF saved to: /content/sample_data/email_output.pdf\n"
          ]
        }
      ]
    },
    {
      "cell_type": "code",
      "source": [],
      "metadata": {
        "id": "8Z2_KYzuIw9H"
      },
      "execution_count": null,
      "outputs": []
    }
  ]
}